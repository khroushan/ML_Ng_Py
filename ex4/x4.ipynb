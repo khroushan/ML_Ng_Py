{
 "cells": [
  {
   "cell_type": "code",
   "execution_count": 1,
   "metadata": {
    "collapsed": true
   },
   "outputs": [],
   "source": [
    "import numpy as np\n",
    "import matplotlib.pyplot as pl\n",
    "import scipy.io as mat\n",
    "import pandas as pd\n",
    "%matplotlib inline"
   ]
  },
  {
   "cell_type": "code",
   "execution_count": 2,
   "metadata": {},
   "outputs": [
    {
     "data": {
      "text/plain": [
       "dict_keys(['__header__', '__version__', '__globals__', 'X', 'y'])"
      ]
     },
     "execution_count": 2,
     "metadata": {},
     "output_type": "execute_result"
    }
   ],
   "source": [
    "data = mat.loadmat('ex4data1.mat')\n",
    "data.keys()"
   ]
  },
  {
   "cell_type": "code",
   "execution_count": 3,
   "metadata": {},
   "outputs": [
    {
     "name": "stdout",
     "output_type": "stream",
     "text": [
      "dimension of features:  (5000, 400)\n",
      "number of training samples:  (5000,)\n",
      "ymat shape:  (5000, 10)\n"
     ]
    }
   ],
   "source": [
    "XX = data['X']\n",
    "y = data['y'][:,0]\n",
    "# matrix representation of y\n",
    "M = XX.shape[0]\n",
    "ymat = np.zeros((M,10), dtype=int)\n",
    "for i in range(M):\n",
    "    ymat[i,np.int(y[i])-1] = 1\n",
    "    \n",
    "print('dimension of features: ', XX.shape)\n",
    "print('number of training samples: ', y.shape)\n",
    "print('ymat shape: ', ymat.shape)"
   ]
  },
  {
   "cell_type": "code",
   "execution_count": 4,
   "metadata": {},
   "outputs": [
    {
     "data": {
      "text/plain": [
       "<matplotlib.image.AxesImage at 0x7f184c746240>"
      ]
     },
     "execution_count": 4,
     "metadata": {},
     "output_type": "execute_result"
    },
    {
     "data": {
      "image/png": "[encoded data removed]",
      "text/plain": [
       "<matplotlib.figure.Figure at 0x7f184cbc4b38>"
      ]
     },
     "metadata": {},
     "output_type": "display_data"
    }
   ],
   "source": [
    "from numpy.random import randint\n",
    "indx = randint(5000, size=10)\n",
    "pl.imshow(XX[indx,:].reshape(10*20,20).T)"
   ]
  },
  {
   "cell_type": "code",
   "execution_count": 5,
   "metadata": {},
   "outputs": [
    {
     "name": "stdout",
     "output_type": "stream",
     "text": [
      "[ 8  8  2  8 10  7  4  4 10  6]\n"
     ]
    }
   ],
   "source": [
    "jndx = randint(5000, size=10)\n",
    "print(y[jndx])"
   ]
  },
  {
   "cell_type": "code",
   "execution_count": 6,
   "metadata": {},
   "outputs": [
    {
     "name": "stdout",
     "output_type": "stream",
     "text": [
      "theta1 shape:(25, 401)\n",
      "theta2 shape:(10, 26)\n"
     ]
    }
   ],
   "source": [
    "weights = mat.loadmat('ex4weights.mat')\n",
    "weights.keys()\n",
    "Thtrain1 = weights['Theta1']\n",
    "Thtrain2 = weights['Theta2']\n",
    "print('theta1 shape:{}'.format(Thtrain1.shape))\n",
    "print('theta2 shape:{}'.format(Thtrain2.shape))"
   ]
  },
  {
   "cell_type": "markdown",
   "metadata": {},
   "source": [
    "The network includes three layers: input layer, one hidden layer and output layer. Dimension of each layers are\n",
    "Input layer: 400+1 features\n",
    "Hidden layer: 26\n",
    "Outputlayer: 10"
   ]
  },
  {
   "cell_type": "markdown",
   "metadata": {},
   "source": [
    "$$ J(\\theta) = \\frac{1}{m} \\sum_{i=1}^m \\sum_{k=1}^K \\left[ -y_k^{(i)} \\log((h_\\theta(x^{(i)}))_k) \n",
    "-(1 - y_k^{(i)}) \\log((1 - h_\\theta(x^{(i)}))_k)\\right]$$"
   ]
  },
  {
   "cell_type": "code",
   "execution_count": 7,
   "metadata": {
    "collapsed": true
   },
   "outputs": [],
   "source": [
    "# define sigmoid function\n",
    "def sigmoid(z):\n",
    "    return (1./(1. + np.exp(-z)))"
   ]
  },
  {
   "cell_type": "code",
   "execution_count": 8,
   "metadata": {
    "collapsed": true
   },
   "outputs": [],
   "source": [
    "def sig_derv(z):\n",
    "    return sigmoid(z)*(1-sigmoid(z))"
   ]
  },
  {
   "cell_type": "code",
   "execution_count": 9,
   "metadata": {
    "collapsed": true
   },
   "outputs": [],
   "source": [
    "# define cost function, flatten multi thetas into one vector\n",
    "# This function is defined for a network with just one hidden layer\n",
    "def Jcost(theta_params, input_layer_size, hidden_layer_size, num_labels,\n",
    "          X, ymat, reg):\n",
    "    \"\"\" function to calculate the cost function of classification using \n",
    "    using neural network.\n",
    "    input:\n",
    "    ------\n",
    "    theta_params: vec(float), flatten theta matrices\n",
    "    input_layer_size: int\n",
    "    hidden_layer_size: int, assumed just one hidden layer\n",
    "    num_labels: int, number of labels for classification\n",
    "    X: float, mat(m,n), training set features\n",
    "    y: float vec, target\n",
    "    \n",
    "    return:\n",
    "    -------\n",
    "    JJ: float, cost function\n",
    "    argmax(...): forward propagation, prediction\n",
    "    theta_grad: vec, gradient respect to both theta1 & theta2\n",
    "    \"\"\"\n",
    "    d1 = input_layer_size\n",
    "    d2 = hidden_layer_size\n",
    "    d3 = num_labels\n",
    "    \n",
    "    theta1 = theta_params[:d2*(d1+1)].reshape(d2,d1+1)\n",
    "    theta2 = theta_params[d2*(d1+1):].reshape(d3,d2+1)\n",
    "    \n",
    "    M = X.shape[0]\n",
    "    # adding x0=1 feature to all entries\n",
    "    a1 = np.c_[np.ones(X.shape[0]), X] # 5000x401\n",
    "    # Fist layer\n",
    "    a2 = sigmoid(theta1.dot(a1.T)) # 25x401 * 401x5000 = 25x5000\n",
    "    \n",
    "    # Second layer\n",
    "    a2 = np.c_[np.ones(a2.shape[1]), a2.T] #(26, 5000)\n",
    "    a3 = (sigmoid(theta2.dot(a2.T))).T\n",
    "    \n",
    "    JJ = -(1./M) * np.sum( np.log(a3)*ymat + np.log(1 - a3)*(1-ymat) ) + \\\n",
    "          (0.5*reg/M) * ( np.sum(np.square(theta1[:,1:])) +\\\n",
    "                         np.sum(np.square(theta2[:,1:])) )\n",
    "    # return\n",
    "    return JJ #, (np.argmax(a3.T,axis=1)+1), theta_grad"
   ]
  },
  {
   "cell_type": "code",
   "execution_count": 10,
   "metadata": {},
   "outputs": [
    {
     "name": "stdout",
     "output_type": "stream",
     "text": [
      "0.383769859091\n"
     ]
    }
   ],
   "source": [
    "# Check with the second version of costfunction\n",
    "theta_vec = np.r_[Thtrain1.ravel(), Thtrain2.ravel()]\n",
    "print(Jcost(theta_vec, 400, 25, 10, XX, ymat, 1))"
   ]
  },
  {
   "cell_type": "code",
   "execution_count": 11,
   "metadata": {
    "collapsed": true
   },
   "outputs": [],
   "source": [
    "# define cost function, flatten multi thetas into one vector\n",
    "# This function is defined for a network with just one hidden layer\n",
    "def predict_forward(theta_params, input_layer_size, hidden_layer_size, num_labels,\n",
    "          X):\n",
    "    \"\"\" function to calculate the cost function of classification using \n",
    "    using neural network.\n",
    "    input:\n",
    "    ------\n",
    "    theta_params: vec(float), flatten theta matrices\n",
    "    input_layer_size: int\n",
    "    hidden_layer_size: int, assumed just one hidden layer\n",
    "    num_labels: int, number of labels for classification\n",
    "    X: float, mat(m,n), training set features\n",
    "    \n",
    "    return:\n",
    "    -------\n",
    "    argmax(...): forward propagation, prediction\n",
    "    \"\"\"\n",
    "    d1 = input_layer_size\n",
    "    d2 = hidden_layer_size\n",
    "    d3 = num_labels\n",
    "    \n",
    "    theta1 = theta_params[:d2*(d1+1)].reshape(d2,d1+1)\n",
    "    theta2 = theta_params[d2*(d1+1):].reshape(d3,d2+1)\n",
    "    \n",
    "    M = X.shape[0]\n",
    "    # adding x0=1 feature to all entries\n",
    "    a1 = np.c_[np.ones(X.shape[0]), X] # 5000x401\n",
    "    # Fist layer\n",
    "    z2 = theta1.dot(a1.T) # 25x401 * 401x5000 = 25x5000\n",
    "    a2 = sigmoid(z2) # 25x5000\n",
    "    \n",
    "    # Second layer\n",
    "    a2 = np.c_[np.ones(a2.shape[1]), a2.T] #(26, 5000)\n",
    "    z3 = theta2.dot(a2.T)\n",
    "    a3 = sigmoid(z3)             #(10, 5000)\n",
    "     \n",
    "    # return\n",
    "    return (np.argmax(a3.T,axis=1)+1)"
   ]
  },
  {
   "cell_type": "code",
   "execution_count": 12,
   "metadata": {
    "collapsed": true
   },
   "outputs": [],
   "source": [
    "# define cost function, flatten multi thetas into one vector\n",
    "# This function is defined for a network with just one hidden layer\n",
    "def Jcost_grad(theta_params, input_layer_size, hidden_layer_size, num_labels,\n",
    "          X, ymat, reg):\n",
    "    \"\"\" function to calculate the cost function of classification using \n",
    "    using neural network.\n",
    "    input:\n",
    "    ------\n",
    "    theta_params: vec(float), flatten theta matrices\n",
    "    input_layer_size: int\n",
    "    hidden_layer_size: int, assumed just one hidden layer\n",
    "    num_labels: int, number of labels for classification\n",
    "    X: float, mat(m,n), training set features\n",
    "    y: float vec, target\n",
    "    \n",
    "    return:\n",
    "    -------\n",
    "    JJ: float, cost function\n",
    "    argmax(...): forward propagation, prediction\n",
    "    theta_grad: vec, gradient respect to both theta1 & theta2\n",
    "    \"\"\"\n",
    "    d1 = input_layer_size\n",
    "    d2 = hidden_layer_size\n",
    "    d3 = num_labels\n",
    "    \n",
    "    theta1 = theta_params[:d2*(d1+1)].reshape(d2,d1+1)\n",
    "    theta2 = theta_params[d2*(d1+1):].reshape(d3,d2+1)\n",
    "    \n",
    "    M = X.shape[0]\n",
    "    \n",
    "    # adding x0=1 feature to all entries\n",
    "    a1 = np.c_[np.ones(X.shape[0]), X] # 5000x401\n",
    "    # Fist layer\n",
    "    z2 = theta1.dot(a1.T) # 25x401 * 401x5000 = 25x5000\n",
    "    a2 = sigmoid(z2) # 25x5000\n",
    "    \n",
    "    # Second layer\n",
    "    a2 = np.c_[np.ones(a2.shape[1]), a2.T] #(26, 5000)\n",
    "    z3 = theta2.dot(a2.T)\n",
    "    a3 = sigmoid(z3)             #(10, 5000)\n",
    "    \n",
    "    # gradient of cost function:\n",
    "    d3 = a3 - ymat.T # 10x5000\n",
    "    \n",
    "    d2 = (theta2[:,1:].T.dot(d3)) * sig_derv(z2) #(25,10)x(10,5000) ~ (25,5000)\n",
    "    \n",
    "    D1 = d2.dot(a1) # (25,5000)x(5000,401) ~ (25,401)\n",
    "    D2 = d3.dot(a2) # (10,5000)x(5000,26) ~ (10,26)\n",
    "    \n",
    "    # excluding the bias term from regularization\n",
    "    thet1_ = np.c_[np.zeros((theta1.shape[0],1)), theta1[:,1:]]\n",
    "    thet2_ = np.c_[np.zeros((theta2.shape[0],1)), theta2[:,1:]]\n",
    "    \n",
    "    theta1_grad = (D1 + thet1_*reg)/M\n",
    "    theta2_grad = (D2 + thet2_*reg)/M\n",
    "\n",
    "    theta_grad = np.r_[theta1_grad.ravel(), theta2_grad.ravel()]\n",
    "    # return\n",
    "    return theta_grad"
   ]
  },
  {
   "cell_type": "code",
   "execution_count": 13,
   "metadata": {},
   "outputs": [
    {
     "name": "stdout",
     "output_type": "stream",
     "text": [
      "0.287629165161\n",
      "0.383769859091\n"
     ]
    }
   ],
   "source": [
    "# Check with the second version of costfunction\n",
    "theta_vec = np.r_[Thtrain1.ravel(), Thtrain2.ravel()]\n",
    "print(Jcost(theta_vec, 400, 25, 10, XX, ymat, 0))\n",
    "print(Jcost(theta_vec, 400, 25, 10, XX, ymat, 1))\n",
    "# accuracy of training\n",
    "#acc = np.mean(Jcost(theta_vec, 400, 25, 10, XX, y, 1)[1] == y)\n",
    "#print('accuracy of training is {}'.format(acc))\n",
    "#y[0:10]"
   ]
  },
  {
   "cell_type": "markdown",
   "metadata": {
    "collapsed": true
   },
   "source": [
    "How to perform backpropagation to fit the weight parameter $\\theta_1$ and $\\theta_2$"
   ]
  },
  {
   "cell_type": "code",
   "execution_count": 14,
   "metadata": {},
   "outputs": [
    {
     "data": {
      "image/png": "[encoded data removed]",
      "text/plain": [
       "<matplotlib.figure.Figure at 0x7f184cb90b38>"
      ]
     },
     "metadata": {},
     "output_type": "display_data"
    }
   ],
   "source": [
    "# Dispalying hidden layer\n",
    "fig, ax = pl.subplots(5,5, sharey=True, sharex=True)\n",
    "for i in range(5):\n",
    "    for j in range(5):\n",
    "            ax[i,j].imshow(Thtrain1[i*5+j,1:].reshape(20,20), cmap='gray')\n",
    "# random initialization \n",
    "#res = minimize(costF, theta_int, args=(beta,XX, target_i), method=None,\n",
    "#                        jac=grad_costF, options={'maxiter':50})\n",
    "#        all_theta[i-1] = res.x"
   ]
  },
  {
   "cell_type": "code",
   "execution_count": 15,
   "metadata": {},
   "outputs": [
    {
     "name": "stdout",
     "output_type": "stream",
     "text": [
      "Optimization terminated successfully.\n",
      "         Current function value: 2.481511\n",
      "         Iterations: 273\n",
      "         Function evaluations: 544\n",
      "         Gradient evaluations: 544\n"
     ]
    }
   ],
   "source": [
    "# random initialization \n",
    "from scipy.optimize import minimize\n",
    "theta_init = 0.24*np.random.rand(theta_vec.size) - 0.12\n",
    "#theta_init = theta_vec + .01*np.random.rand(theta_vec.size)\n",
    "#Jcost(theta_params, input_layer_size, hidden_layer_size, num_labels,\n",
    "#          X, y, reg)\n",
    "input_layer_size = 400\n",
    "hidden_layer_size = 25\n",
    "num_labels = 10\n",
    "reg = 100\n",
    "# This optimization is very slow for this problem\n",
    "#res = minimize(Jcost, theta_init, args=(input_layer_size, hidden_layer_size, num_labels,\n",
    "#          XX, ymat, reg), jac=Jcost_grad, method=None, options={'maxiter':100, 'disp':True})\n",
    "res2 = minimize(Jcost, theta_init, args=(input_layer_size, hidden_layer_size, num_labels,\n",
    "          XX, ymat, reg), method=\"CG\", jac=Jcost_grad, options={'maxiter':1000, \"disp\":True})\n",
    "#print(res.x)"
   ]
  },
  {
   "cell_type": "code",
   "execution_count": 16,
   "metadata": {},
   "outputs": [
    {
     "name": "stdout",
     "output_type": "stream",
     "text": [
      "0.848\n"
     ]
    }
   ],
   "source": [
    "#print(np.mean(predict_forward(res.x, input_layer_size, hidden_layer_size, num_labels,XX) == y))\n",
    "print(np.mean(predict_forward(res2.x, input_layer_size, hidden_layer_size, num_labels,XX) == y))"
   ]
  },
  {
   "cell_type": "code",
   "execution_count": 17,
   "metadata": {},
   "outputs": [
    {
     "data": {
      "image/png": "[encoded data removed]",
      "text/plain": [
       "<matplotlib.figure.Figure at 0x7f184c61c630>"
      ]
     },
     "metadata": {},
     "output_type": "display_data"
    }
   ],
   "source": [
    "the1 = res2.x[0:401*25].reshape(25,401)\n",
    "fig, ax = pl.subplots(5,5, sharey=True, sharex=True)\n",
    "for i in range(5):\n",
    "    for j in range(5):\n",
    "            ax[i,j].imshow(the1[i*5+j,1:].reshape(20,20), cmap='gray')\n"
   ]
  }
 ],
 "metadata": {
  "kernelspec": {
   "display_name": "Python 3",
   "language": "python",
   "name": "python3"
  },
  "language_info": {
   "codemirror_mode": {
    "name": "ipython",
    "version": 3
   },
   "file_extension": ".py",
   "mimetype": "text/x-python",
   "name": "python",
   "nbconvert_exporter": "python",
   "pygments_lexer": "ipython3",
   "version": "3.6.3"
  }
 },
 "nbformat": 4,
 "nbformat_minor": 2
}
