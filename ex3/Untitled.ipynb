{
 "cells": [
  {
   "cell_type": "code",
   "execution_count": 2,
   "metadata": {
    "collapsed": true
   },
   "outputs": [],
   "source": [
    "import numpy as np"
   ]
  },
  {
   "cell_type": "code",
   "execution_count": 4,
   "metadata": {
    "collapsed": true
   },
   "outputs": [],
   "source": [
    "A = np.array([1,2,3,4,5,6,4,3,4], float)"
   ]
  },
  {
   "cell_type": "code",
   "execution_count": 13,
   "metadata": {},
   "outputs": [
    {
     "name": "stdout",
     "output_type": "stream",
     "text": [
      "(9,)\n",
      "[ 1.  2.  3.  4.  5.  6.  4.  3.  4.]\n",
      "(3, 3)\n",
      "[ 1.  2.  3.  4.  5.  6.  7.  8.  9.]\n",
      "[ 1.  2.  3.  4.  5.  6.  4.  3.  4.]\n",
      "[[ 1.]\n",
      " [ 2.]\n",
      " [ 3.]\n",
      " [ 4.]\n",
      " [ 5.]\n",
      " [ 6.]\n",
      " [ 4.]\n",
      " [ 3.]\n",
      " [ 4.]]\n",
      "[ 1.  2.  3.  4.  5.  6.  4.  3.  4.]\n"
     ]
    }
   ],
   "source": [
    "B = np.array([[1,2,3],\n",
    "              [4,5,6],\n",
    "              [7,8,9]], float)\n",
    "print(A.shape)\n",
    "A1=A.reshape(-1,1)\n",
    "print(A.flatten())\n",
    "print(B.shape)\n",
    "print(B.flatten())\n",
    "print(A)\n",
    "print(A1)\n",
    "print(A1.flatten())\n",
    "np.argmax?"
   ]
  }
 ],
 "metadata": {
  "kernelspec": {
   "display_name": "Python 3",
   "language": "python",
   "name": "python3"
  },
  "language_info": {
   "codemirror_mode": {
    "name": "ipython",
    "version": 3
   },
   "file_extension": ".py",
   "mimetype": "text/x-python",
   "name": "python",
   "nbconvert_exporter": "python",
   "pygments_lexer": "ipython3",
   "version": "3.6.3"
  }
 },
 "nbformat": 4,
 "nbformat_minor": 2
}
