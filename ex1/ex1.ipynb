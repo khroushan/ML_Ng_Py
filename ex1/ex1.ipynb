{
 "cells": [
  {
   "cell_type": "markdown",
   "metadata": {},
   "source": [
    "### Machine Learning, Ex1\n",
    "The file `ex1data1.txt` contains the dataset for linear regression problem. The first column is the population of a city and the second column is the profit of a food truck in that city."
   ]
  },
  {
   "cell_type": "code",
   "execution_count": 1,
   "metadata": {
    "collapsed": true
   },
   "outputs": [],
   "source": [
    "# Loading Modules\n",
    "import numpy as np\n",
    "import matplotlib.pyplot as pl\n",
    "%matplotlib inline"
   ]
  },
  {
   "cell_type": "code",
   "execution_count": 2,
   "metadata": {},
   "outputs": [
    {
     "data": {
      "image/png": "[encoded data removed]",
      "text/plain": [
       "<matplotlib.figure.Figure at 0x7f4902714828>"
      ]
     },
     "metadata": {},
     "output_type": "display_data"
    }
   ],
   "source": [
    "data = np.loadtxt('ex1data1.txt', dtype=float, delimiter=',')\n",
    "X = data[:,0]\n",
    "y = data[:,1]\n",
    "pl.plot(X, y, '*b', linewidth=3)\n",
    "pl.xlabel('city population')\n",
    "pl.ylabel('profit')\n",
    "pl.show()"
   ]
  },
  {
   "cell_type": "markdown",
   "metadata": {},
   "source": [
    "Function to calculate the cost function for a linear regression algorithm. It is defined \n",
    "$$ J(\\theta) = \\frac{1}{2m}\\sum_{i=1}^m (h_\\theta(x^{(i)}) - y^{(i)}) $$\n",
    "where $m$ is the number of training samples."
   ]
  },
  {
   "cell_type": "code",
   "execution_count": 3,
   "metadata": {
    "collapsed": true
   },
   "outputs": [],
   "source": [
    "def J_cost(X,Y, theta):\n",
    "    \"\"\" compute the cost function for given \n",
    "    features X and goals Y, theta is the fitting paramater\n",
    "    \"\"\"\n",
    "    m = Y.shape[0]              # number of training data\n",
    "    \n",
    "    aux1 = np.dot(X,theta)\n",
    "    aux2 = (Y-aux1)*(Y-aux1)\n",
    "    J = (1./(2.*m)) * np.sum(aux2)\n",
    "    \n",
    "    return J"
   ]
  },
  {
   "cell_type": "markdown",
   "metadata": {},
   "source": [
    "To learn the linear regression paramter $\\theta$, we implement **gradient descent** algorithm to minimize the cost function $J(\\theta)$. In each iteration, the new value of hypothesis parameter would be\n",
    "$$ \\theta_j^{n+1} = \\theta_j^{n} - \\alpha\\frac{\\partial J}{\\partial \\theta_j} $$"
   ]
  },
  {
   "cell_type": "code",
   "execution_count": 4,
   "metadata": {
    "collapsed": true
   },
   "outputs": [],
   "source": [
    "def g_desc(X,Y, theta, alpha, num_iters):\n",
    "    \"\"\" This function uses gradient descent to fit the \n",
    "    hypothesis parameters\n",
    "    \"\"\"\n",
    "    m = Y.shape[0]\n",
    "    # value of cost function is saved for plotting\n",
    "    J_arr = np.zeros((num_iters), float)\n",
    "    theta_arr = np.zeros((num_iters,2), float)\n",
    "    \n",
    "    for it in range(num_iters):\n",
    "        error = np.dot(X,theta) - Y\n",
    "        aux0 = theta[0] - (alpha/m) * np.sum(error*X[:,0])\n",
    "        aux1 = theta[1] - (alpha/m) * np.sum(error*X[:,1])\n",
    "        # update theta\n",
    "        theta = np.array([aux0, aux1], float)\n",
    "\n",
    "        # save data for plotting\n",
    "        theta_arr[it] = theta\n",
    "        J_arr[it] = J_cost(X,Y,theta)\n",
    "\n",
    "    return theta, J_arr, theta_arr\n"
   ]
  },
  {
   "cell_type": "markdown",
   "metadata": {},
   "source": [
    "Applying the linear regression algorithm to the truck problem"
   ]
  },
  {
   "cell_type": "code",
   "execution_count": 5,
   "metadata": {},
   "outputs": [
    {
     "name": "stdout",
     "output_type": "stream",
     "text": [
      "Cost:  32.0727338775\n",
      "theta =  [-3.63029144  1.16636235]\n",
      "Cost:  4.48338825659\n",
      "2.21079579118\n"
     ]
    }
   ],
   "source": [
    "# number of training samples\n",
    "m = X.shape[0]\n",
    "# add intercept column\n",
    "X =np.c_[np.ones(m),data[:,0]]\n",
    "# hypothesis parameters\n",
    "theta = np.zeros(2)\n",
    "# number of iteration\n",
    "num_iters = 1500\n",
    "# fitting rate\n",
    "alpha = 0.01\n",
    "# save cost function for each iteration\n",
    "J_arr = np.zeros((num_iters), float)\n",
    "theta_arr = np.zeros((num_iters,2), float)\n",
    "\n",
    "print(\"Cost: \", J_cost(X, y, theta))\n",
    "theta, J_arr, theta_arr = g_desc(X, y, theta, alpha, num_iters)\n",
    "\n",
    "print(\"theta = \", theta)\n",
    "print(\"Cost: \", J_cost(X, y, theta))\n",
    "print(np.mean(np.abs(X.dot(theta) - y)))"
   ]
  },
  {
   "cell_type": "markdown",
   "metadata": {},
   "source": [
    "First we need to divide the data set to training and cross-validation set to measure how good perform our model.  "
   ]
  },
  {
   "cell_type": "code",
   "execution_count": 6,
   "metadata": {},
   "outputs": [
    {
     "name": "stdout",
     "output_type": "stream",
     "text": [
      "2.17200858685\n",
      "2.24009298382\n"
     ]
    },
    {
     "data": {
      "image/png": "[encoded data removed]",
      "text/plain": [
       "<matplotlib.figure.Figure at 0x7f48f83f67b8>"
      ]
     },
     "metadata": {},
     "output_type": "display_data"
    }
   ],
   "source": [
    "m = X.shape[0]\n",
    "indx_cross = np.random.choice(m,int(.2*m), replace=False)\n",
    "Xcross = X[indx_cross]\n",
    "ycross = y[indx_cross]\n",
    "pl.plot(Xcross[:,1], ycross, 'y*')\n",
    "\n",
    "Xtrain = np.delete(X, indx_cross, axis=0)\n",
    "ytrain = np.delete(y, indx_cross, axis=0)\n",
    "pl.plot(Xtrain[:,1], ytrain, 'r*')\n",
    "\n",
    "theta = np.zeros(2)\n",
    "theta, J_arr, theta_arr = g_desc(Xtrain, ytrain, theta, alpha, num_iters)\n",
    "print(np.mean(np.abs(Xtrain.dot(theta) - ytrain)))\n",
    "print(np.mean(np.abs(Xcross.dot(theta) - ycross)))"
   ]
  },
  {
   "cell_type": "code",
   "execution_count": 7,
   "metadata": {},
   "outputs": [
    {
     "data": {
      "image/png": "[encoded data removed]",
      "text/plain": [
       "<matplotlib.figure.Figure at 0x7f49027439e8>"
      ]
     },
     "metadata": {},
     "output_type": "display_data"
    }
   ],
   "source": [
    "rand_indx = np.random.randint\n",
    "pl.plot(X[:,1], y[:], 'b*')\n",
    "pl.plot(X[:,1], theta[0] + theta[1]*X[:,1], 'y-')\n",
    "pl.xlabel('Population')\n",
    "pl.ylabel('Profit')\n",
    "\n",
    "pl.show()"
   ]
  },
  {
   "cell_type": "markdown",
   "metadata": {},
   "source": [
    "#### Using `scikit-learn` library"
   ]
  },
  {
   "cell_type": "code",
   "execution_count": 8,
   "metadata": {},
   "outputs": [],
   "source": [
    "import sklearn as sk\n",
    "import sklearn.linear_model as skl"
   ]
  },
  {
   "cell_type": "code",
   "execution_count": 9,
   "metadata": {
    "collapsed": true
   },
   "outputs": [],
   "source": [
    "model_l = skl.LinearRegression()"
   ]
  },
  {
   "cell_type": "code",
   "execution_count": 19,
   "metadata": {},
   "outputs": [
    {
     "name": "stdout",
     "output_type": "stream",
     "text": [
      "-4.73239759581 1.28752875877\n",
      "2.48496974798\n"
     ]
    },
    {
     "data": {
      "image/png": "[encoded data removed]",
      "text/plain": [
       "<matplotlib.figure.Figure at 0x7f48e7fa4080>"
      ]
     },
     "metadata": {},
     "output_type": "display_data"
    }
   ],
   "source": [
    "# no intercept is needed for scikit-learn implementation\n",
    "X = data[:,0].reshape(-1,1)\n",
    "y = data[:,1]\n",
    "\n",
    "X_train, X_test, y_train, y_test = sk.model_selection.train_test_split( X, y, \n",
    "                                                                       test_size=0.2, random_state=42)\n",
    "model_fit = model_l.fit(X_train,y_train)\n",
    "theta0 = model_fit.intercept_\n",
    "theta1 = model_fit.coef_[0]\n",
    "print(theta0, theta1)\n",
    "pl.plot(X[:,0], y[:], 'b*')\n",
    "pl.plot([min(X), max(X)], [theta0, theta0 + theta1*max(X)], 'y-')\n",
    "pl.xlabel('Population')\n",
    "pl.ylabel('Profit')\n",
    "\n",
    "error = np.mean(np.abs(model_fit.predict(X_test) - y_test))\n",
    "print(error)\n",
    "pl.show()"
   ]
  }
 ],
 "metadata": {
  "kernelspec": {
   "display_name": "Python 3",
   "language": "python",
   "name": "python3"
  },
  "language_info": {
   "codemirror_mode": {
    "name": "ipython",
    "version": 3
   },
   "file_extension": ".py",
   "mimetype": "text/x-python",
   "name": "python",
   "nbconvert_exporter": "python",
   "pygments_lexer": "ipython3",
   "version": "3.6.3"
  }
 },
 "nbformat": 4,
 "nbformat_minor": 2
}
