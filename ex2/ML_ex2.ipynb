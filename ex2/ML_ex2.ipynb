{
 "cells": [
  {
   "cell_type": "markdown",
   "metadata": {},
   "source": [
    "### Machine Learning Assignment 2\n",
    "#### Logistic regression, classification"
   ]
  },
  {
   "cell_type": "code",
   "execution_count": 1,
   "metadata": {
    "collapsed": true
   },
   "outputs": [],
   "source": [
    "import numpy as np\n",
    "import matplotlib.pyplot as pl\n",
    "%matplotlib inline"
   ]
  },
  {
   "cell_type": "markdown",
   "metadata": {},
   "source": [
    "Read admission data into an numpy array for analysis and plotting"
   ]
  },
  {
   "cell_type": "code",
   "execution_count": 2,
   "metadata": {},
   "outputs": [
    {
     "data": {
      "text/plain": [
       "[<matplotlib.lines.Line2D at 0x7ff1d40915c0>]"
      ]
     },
     "execution_count": 2,
     "metadata": {},
     "output_type": "execute_result"
    },
    {
     "data": {
      "image/png": "[encoded data removed]",
      "text/plain": [
       "<matplotlib.figure.Figure at 0x7ff1d4518940>"
      ]
     },
     "metadata": {},
     "output_type": "display_data"
    }
   ],
   "source": [
    "data = np.loadtxt('ex2data1.txt', delimiter=',', dtype=float)\n",
    "pl.plot(data[:,0], data[:,1], '*b')"
   ]
  },
  {
   "cell_type": "markdown",
   "metadata": {},
   "source": [
    "To find admitted and rejected student"
   ]
  },
  {
   "cell_type": "code",
   "execution_count": 3,
   "metadata": {},
   "outputs": [],
   "source": [
    "#admitted students\n",
    "dp = data[data[:,2]==1,0:2]\n",
    "#rejected students\n",
    "dn = data[data[:,2]==0,0:2]"
   ]
  },
  {
   "cell_type": "markdown",
   "metadata": {},
   "source": [
    "Plot admitted and rejected student with different colors"
   ]
  },
  {
   "cell_type": "code",
   "execution_count": 4,
   "metadata": {},
   "outputs": [
    {
     "data": {
      "text/plain": [
       "<matplotlib.legend.Legend at 0x7ff1d402f940>"
      ]
     },
     "execution_count": 4,
     "metadata": {},
     "output_type": "execute_result"
    },
    {
     "data": {
      "image/png": "[encoded data removed]",
      "text/plain": [
       "<matplotlib.figure.Figure at 0x7ff1d40db160>"
      ]
     },
     "metadata": {},
     "output_type": "display_data"
    }
   ],
   "source": [
    "pl.plot(dp[:,0], dp[:,1], 'ko', label='admitted')\n",
    "pl.plot(dn[:,0], dn[:,1], 'b*', label='rejected')\n",
    "pl.legend()"
   ]
  },
  {
   "cell_type": "code",
   "execution_count": 5,
   "metadata": {
    "collapsed": true
   },
   "outputs": [],
   "source": [
    "def sigmoid(x):\n",
    "    \"\"\"Calculate sigmoid function of input paramter.\n",
    "    input:\n",
    "    ------\n",
    "    x: float\n",
    "    \n",
    "    return:\n",
    "    -------\n",
    "    aux: float\n",
    "    \"\"\"\n",
    "    if x == 0:\n",
    "        aux=0.5\n",
    "    else:\n",
    "        aux = 1./( 1+np.exp(-x) )\n",
    "        \n",
    "    return aux\n",
    "# to be applicable to an array, vectorize it \n",
    "sigmoid = np.vectorize(sigmoid)"
   ]
  },
  {
   "cell_type": "code",
   "execution_count": 6,
   "metadata": {
    "collapsed": true
   },
   "outputs": [],
   "source": [
    "def costFun(x,y,theta):\n",
    "    \"\"\"Calculate the cost function in logistic regression.\n",
    "    input:\n",
    "    ------\n",
    "    x: array, float, features\n",
    "    y: array, float, targets\n",
    "    theta: array, float, hypothesis parameter\n",
    "    \n",
    "    return:\n",
    "    -------\n",
    "    float, the cost \n",
    "    \"\"\"\n",
    "    aux = 0\n",
    "    M = x.shape[0]\n",
    "    aux = np.sum(-y*np.log(sigmoid(np.dot(x,theta))) - \\\n",
    "               (1-y)*np.log(1-sigmoid(np.dot(x,theta))))\n",
    "    return aux/M"
   ]
  },
  {
   "cell_type": "code",
   "execution_count": 7,
   "metadata": {
    "collapsed": true
   },
   "outputs": [],
   "source": [
    "def costGrad(x,y,theta):\n",
    "    \"\"\"Gradient of the logistic regression cost function.\n",
    "    input:\n",
    "    ------\n",
    "    x: array, float, features\n",
    "    y: array, float, target\n",
    "    theta: array, hypothesis paramters\n",
    "    \n",
    "    return:\n",
    "    -------\n",
    "    grad: array, float, dimension of features\n",
    "    \"\"\"\n",
    "    M = x.shape[0]\n",
    "    grad = np.zeros((x.shape[1]),float)\n",
    "    temp = sigmoid(np.dot(theta,x.T))\n",
    "    error = temp - y\n",
    "    grad = (1./M)*np.dot(x.T,error)\n",
    "    return grad"
   ]
  },
  {
   "cell_type": "code",
   "execution_count": 8,
   "metadata": {
    "collapsed": true
   },
   "outputs": [],
   "source": [
    "def g_des(x,y,theta_int,alpha):\n",
    "    \"\"\"Gradient desendent to find the minimum of the cost function.\n",
    "    input:\n",
    "    ------\n",
    "    x: array, float, features\n",
    "    y: array, float, target\n",
    "    theta_int: array, hypothesis paramters, initial guess.\n",
    "    \n",
    "    return:\n",
    "    -------\n",
    "    theta:array, hypothesis parameters, fitted\n",
    "    Jarr: array, cost function in each iteration\n",
    "    \"\"\"\n",
    "    num_itr = 5000\n",
    "    Jarr = np.zeros((num_itr), float)\n",
    "    theta = theta_int\n",
    "    print(Jarr.shape)\n",
    "    for it in range(num_itr):\n",
    "        theta -= alpha*costGrad(x,y,theta)\n",
    "        Jarr[it] = costFun(x,y,theta)\n",
    "    return theta, Jarr"
   ]
  },
  {
   "cell_type": "code",
   "execution_count": 9,
   "metadata": {},
   "outputs": [],
   "source": [
    "#x = data[:,0:2]\n",
    "#m = x.shape[0]\n",
    "# add one column of 1s to the featurs for theta_0\n",
    "#x = np.hstack((np.ones((m,1), float),x))\n",
    "#y = data[:,2]\n",
    "#theta_int = np.array([-10, 0.1,0.1])\n",
    "#theta_f, J_arr = g_des(x,y,theta_int,0.001)\n",
    "#print(theta_f)\n",
    "#print(sigmoid(np.dot(theta_f,np.array([1,45,85],float))))\n",
    "#d1 = np.linspace(0,1,5000)\n",
    "#pl.plot(d1,J_arr, 'k,')"
   ]
  },
  {
   "cell_type": "code",
   "execution_count": 10,
   "metadata": {},
   "outputs": [
    {
     "name": "stdout",
     "output_type": "stream",
     "text": [
      "      fun: 0.20349770159138283\n",
      " hess_inv: array([[  3.28080834e+03,  -2.61365970e+01,  -2.66365060e+01],\n",
      "       [ -2.61365970e+01,   2.22597830e-01,   1.99170006e-01],\n",
      "       [ -2.66365060e+01,   1.99170006e-01,   2.32077088e-01]])\n",
      "      jac: array([  2.04890966e-08,   1.25542283e-06,   4.73111868e-07])\n",
      "  message: 'Optimization terminated successfully.'\n",
      "     nfev: 155\n",
      "      nit: 26\n",
      "     njev: 31\n",
      "   status: 0\n",
      "  success: True\n",
      "        x: array([-25.16121944,   0.20623081,   0.20147066])\n",
      "[-25.16121944   0.20623081   0.20147066]\n"
     ]
    },
    {
     "data": {
      "text/plain": [
       "array(0.7762896205867869)"
      ]
     },
     "execution_count": 10,
     "metadata": {},
     "output_type": "execute_result"
    }
   ],
   "source": [
    "from scipy.optimize import minimize\n",
    "# define one-paramter cost function for optimization\n",
    "def cost_1param(theta):\n",
    "    \"\"\"one parameter cost function for optimization\"\"\"\n",
    "    x = data[:,0:2]\n",
    "    m = x.shape[0]\n",
    "    x1 = np.ones((m,1),float)\n",
    "    x = np.hstack((x1,x))\n",
    "    y = data[:,2]\n",
    "    return costFun(x,y,theta)\n",
    "\n",
    "#optimization using \"minimize\" from scipy\n",
    "x0 = 0.1*np.ones((3), float)\n",
    "res = minimize(cost_1param,x0)\n",
    "print(res)\n",
    "print(res.x)\n",
    "#prediction for test of (45,85) = 0.776\n",
    "sigmoid(np.dot(res.x,np.array([1,45,85])))"
   ]
  },
  {
   "cell_type": "code",
   "execution_count": 11,
   "metadata": {},
   "outputs": [
    {
     "data": {
      "text/plain": [
       "[<matplotlib.lines.Line2D at 0x7ff1c2472588>]"
      ]
     },
     "execution_count": 11,
     "metadata": {},
     "output_type": "execute_result"
    },
    {
     "data": {
      "image/png": "[encoded data removed]",
      "text/plain": [
       "<matplotlib.figure.Figure at 0x7ff1c28c15f8>"
      ]
     },
     "metadata": {},
     "output_type": "display_data"
    }
   ],
   "source": [
    "x = data[:,0:2]\n",
    "y = data[:,2]\n",
    "theta = res.x\n",
    "x_pos = x[y==1,:]\n",
    "x_neg = x[y==0,:]\n",
    "pl.plot(x_pos[:,0], x_pos[:,1], 'ko', label='admitted')\n",
    "pl.plot(x_neg[:,0], x_neg[:,1], 'b*', label='rejected')\n",
    "pl.legend()\n",
    "x1_fit = np.linspace(min(x[:,0]), max(x[:,0]),100)\n",
    "x2_fit = (-1./theta[2])* (theta[1]*x1_fit + theta[0])\n",
    "pl.plot(x1_fit,x2_fit, 'r-')"
   ]
  },
  {
   "cell_type": "code",
   "execution_count": null,
   "metadata": {},
   "outputs": [],
   "source": []
  }
 ],
 "metadata": {
  "kernelspec": {
   "display_name": "Python 3",
   "language": "python",
   "name": "python3"
  },
  "language_info": {
   "codemirror_mode": {
    "name": "ipython",
    "version": 3
   },
   "file_extension": ".py",
   "mimetype": "text/x-python",
   "name": "python",
   "nbconvert_exporter": "python",
   "pygments_lexer": "ipython3",
   "version": "3.6.5"
  }
 },
 "nbformat": 4,
 "nbformat_minor": 2
}
