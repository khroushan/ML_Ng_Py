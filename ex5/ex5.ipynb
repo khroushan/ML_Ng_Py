{
 "cells": [
  {
   "cell_type": "markdown",
   "metadata": {},
   "source": [
    "# Regularized Linear Regression and Bias vs. Variance"
   ]
  },
  {
   "cell_type": "code",
   "execution_count": 1,
   "metadata": {
    "collapsed": true
   },
   "outputs": [],
   "source": [
    "import numpy as np\n",
    "from scipy.io import loadmat   # to read MATLAB data file '.mat'\n",
    "import matplotlib.pyplot as pl\n",
    "%matplotlib inline"
   ]
  },
  {
   "cell_type": "code",
   "execution_count": 2,
   "metadata": {},
   "outputs": [
    {
     "name": "stdout",
     "output_type": "stream",
     "text": [
      "-48.0588294526 37.492187332\n",
      "X shape:  (12,)\n",
      "y shape:  (12,)\n",
      "new shape of X:  (12, 2)\n",
      "theta shape:  (2,)\n",
      "shape of dot product ()\n",
      "shape of dot produc2 (12,)\n"
     ]
    },
    {
     "data": {
      "image/png": "[encoded data removed]",
      "text/plain": [
       "<matplotlib.figure.Figure at 0x7f6824322a90>"
      ]
     },
     "metadata": {},
     "output_type": "display_data"
    }
   ],
   "source": [
    "data = loadmat('ex5data1.mat')\n",
    "X = data['X'][:,0] # (12,)\n",
    "print(np.amin(X), np.amax(X))\n",
    "y = data['y'][:,0] # (12,)\n",
    "print('X shape: ', X.shape)\n",
    "print('y shape: ', y.shape)\n",
    "\n",
    "X = np.c_[np.ones(X.shape[0]), X] # (12,2)\n",
    "# checking dimension of arrays \n",
    "print('new shape of X: ', X.shape)\n",
    "theta = np.ones((X.shape[1]))\n",
    "print('theta shape: ', theta.shape)\n",
    "print('shape of dot product', (y.T.dot(y)).shape)\n",
    "print('shape of dot produc2', (X.dot(theta)).shape)\n",
    "pl.plot(X[:,1],y, 'k*', linewidth=2)\n",
    "pl.show()"
   ]
  },
  {
   "cell_type": "markdown",
   "metadata": {},
   "source": [
    "Should $\\theta$ be the first paramter?\n",
    "Ans. : Yes"
   ]
  },
  {
   "cell_type": "code",
   "execution_count": 3,
   "metadata": {
    "collapsed": true
   },
   "outputs": [],
   "source": [
    "def cost(theta, X,y,reg):\n",
    "    \"\"\" Linear regression cost function\"\"\"\n",
    "    h = X.dot(theta)\n",
    "    #print(h.shape)\n",
    "    M = y.shape[0]\n",
    "    aux = (h - y).T.dot((h-y)) + reg*(theta[1:].T.dot(theta[1:]))\n",
    "    #print('cost aux shape', aux.shape)\n",
    "    \n",
    "    return aux/(2*M)\n",
    "    "
   ]
  },
  {
   "cell_type": "code",
   "execution_count": 4,
   "metadata": {},
   "outputs": [
    {
     "name": "stdout",
     "output_type": "stream",
     "text": [
      "cost is:  303.99319222\n"
     ]
    }
   ],
   "source": [
    "reg = 1.\n",
    "print('cost is: ', cost(theta, X,y,reg))"
   ]
  },
  {
   "cell_type": "code",
   "execution_count": 5,
   "metadata": {
    "collapsed": true
   },
   "outputs": [],
   "source": [
    "def cost_grad(theta, X,y,reg):\n",
    "    \"Partial derivative of the linear regression cost function\"\n",
    "    h = X.dot(theta)\n",
    "    M = y.shape[0]\n",
    "    aux = X.T.dot(h - y) + reg*np.r_[0,theta[1:]]\n",
    "    #print('grad aux shape', aux.shape)\n",
    "    return aux.ravel()/M"
   ]
  },
  {
   "cell_type": "code",
   "execution_count": 6,
   "metadata": {},
   "outputs": [
    {
     "name": "stdout",
     "output_type": "stream",
     "text": [
      "[ -15.30301567  598.25074417]\n"
     ]
    }
   ],
   "source": [
    "print(cost_grad(theta, X,y,1))"
   ]
  },
  {
   "cell_type": "code",
   "execution_count": 7,
   "metadata": {},
   "outputs": [
    {
     "name": "stdout",
     "output_type": "stream",
     "text": [
      "(2, 1) [[ 0.83088975]\n",
      " [ 0.7128521 ]]\n",
      "[ 13.08771416   0.367742  ]\n"
     ]
    },
    {
     "data": {
      "text/plain": [
       "[<matplotlib.lines.Line2D at 0x7f67f2e9b4e0>]"
      ]
     },
     "execution_count": 7,
     "metadata": {},
     "output_type": "execute_result"
    },
    {
     "data": {
      "image/png": "[encoded data removed]",
      "text/plain": [
       "<matplotlib.figure.Figure at 0x7f67f2e9b400>"
      ]
     },
     "metadata": {},
     "output_type": "display_data"
    }
   ],
   "source": [
    "theta0 = np.random.rand(2,1)\n",
    "print(theta0.shape, theta0)\n",
    "# optimization library\n",
    "from scipy.optimize import minimize\n",
    "# minimizing the cost function to fit theta\n",
    "# args: non-fitting paramter\n",
    "res = minimize(cost, theta0, args=(X,y,reg), method=None, \n",
    "               jac=cost_grad, options={'maxiter':50})\n",
    "print(res.x)\n",
    "pl.plot(X[:,1],y,'*k')\n",
    "Xf = np.linspace(np.amin(X[:,1]),np.amax(X[:,1]),100)\n",
    "yf = res.x[0] + res.x[1]*Xf\n",
    "pl.plot(Xf,yf,'-b')\n"
   ]
  },
  {
   "cell_type": "markdown",
   "metadata": {},
   "source": [
    "#### Bias-Variance tradeoff\n",
    "Models with high bias are not complex enough for the data and tend to underfit, while\n",
    "models with high variance overfit to the training data."
   ]
  },
  {
   "cell_type": "markdown",
   "metadata": {},
   "source": [
    "##### Learning curves"
   ]
  },
  {
   "cell_type": "code",
   "execution_count": 8,
   "metadata": {},
   "outputs": [
    {
     "name": "stdout",
     "output_type": "stream",
     "text": [
      "X_crs shape:  21\n",
      "y_crs shape:  21\n"
     ]
    },
    {
     "data": {
      "text/plain": [
       "<matplotlib.legend.Legend at 0x7f67f2e30e10>"
      ]
     },
     "execution_count": 8,
     "metadata": {},
     "output_type": "execute_result"
    },
    {
     "data": {
      "image/png": "[encoded data removed]",
      "text/plain": [
       "<matplotlib.figure.Figure at 0x7f67f2f72860>"
      ]
     },
     "metadata": {},
     "output_type": "display_data"
    }
   ],
   "source": [
    "X_crs = data['Xval'][:,0]\n",
    "X_crs = np.c_[np.ones(X_crs.shape[0]), X_crs]\n",
    "print('X_crs shape: ', X_crs.shape[0])\n",
    "y_crs = data['yval'][:,0]\n",
    "print('y_crs shape: ', y_crs.shape[0])\n",
    "err_train = []\n",
    "err_val = []\n",
    "theta0 = np.random.rand(2,1)\n",
    "reg = 1\n",
    "for i in range(1,X.shape[0]):\n",
    "    X_sub = X[0:i,:]\n",
    "    y_sub = y[0:i]\n",
    "    res = minimize(cost, theta0, args=(X_sub,y_sub,reg), method=None,\n",
    "                  jac=cost_grad, options={'maxiter':50})\n",
    "    theta = res.x\n",
    "    err_train.append(cost(theta, X_sub, y_sub, 0))\n",
    "    err_val.append(cost(theta, X_crs, y_crs, 0))\n",
    "    \n",
    "train_num = range(1,X.shape[0])\n",
    "pl.plot(train_num, err_train, 'b-',label='train')\n",
    "pl.plot(train_num, err_val, 'g-', label='cross validation')\n",
    "pl.legend()"
   ]
  },
  {
   "cell_type": "markdown",
   "metadata": {},
   "source": [
    "We can observe that both the train error and cross validation\n",
    "error are high when the number of training examples is increased. This\n",
    "reflects a high bias problem in the model – the linear regression model is too simple and is unable to fit our dataset well."
   ]
  },
  {
   "cell_type": "markdown",
   "metadata": {},
   "source": [
    "#### Polynomial regression"
   ]
  },
  {
   "cell_type": "markdown",
   "metadata": {},
   "source": [
    "Let $x=\\text{waterLevel}$ and define various power of $x^n$ as new feature $x_n$. The new hypothesis would be \n",
    "\n",
    "$$ h_\\theta(x) = \\theta_0 + \\theta_1 x_1 + \\theta_2 x_2 + \\ldots + \\theta_p x_p  $$"
   ]
  },
  {
   "cell_type": "code",
   "execution_count": 9,
   "metadata": {
    "collapsed": true
   },
   "outputs": [],
   "source": [
    "def poly_generate(X,p):\n",
    "    \"\"\"to generate more features by calculating higher power of the \n",
    "    original value of X\"\"\"\n",
    "    X_poly = np.zeros((X.shape[0],p))\n",
    "    for i in range(p):\n",
    "        X_poly[:,i] = X[:]**(i+1)\n",
    "\n",
    "    return X_poly\n"
   ]
  },
  {
   "cell_type": "code",
   "execution_count": 10,
   "metadata": {
    "collapsed": true
   },
   "outputs": [],
   "source": [
    "# no bias term, original X\n",
    "X = data['X'][:,0]\n",
    "XPoly = poly_generate(X,3)"
   ]
  },
  {
   "cell_type": "markdown",
   "metadata": {},
   "source": [
    "Even though we have polynomial terms in our feature vector, we are still solving a linear regression optimization problem."
   ]
  },
  {
   "cell_type": "code",
   "execution_count": 11,
   "metadata": {
    "collapsed": true
   },
   "outputs": [],
   "source": [
    "def feature_normalize(X_poly):\n",
    "    \"\"\"to normalize each feature in X where the mean value\n",
    "    of each feature is 0 and the standard deviation is 1. \n",
    "    \"\"\"\n",
    "    # for each feature calculate mean and std\n",
    "    for i in range(X_poly.shape[1]):\n",
    "        xm = np.mean(X_poly[:,i])\n",
    "        xstd = np.std(X_poly[:,i])\n",
    "        X_poly[:,i] = (X_poly[:,i]-xm)/xstd\n",
    "        \n",
    "    return X_poly\n",
    "  "
   ]
  },
  {
   "cell_type": "code",
   "execution_count": 12,
   "metadata": {
    "collapsed": true
   },
   "outputs": [],
   "source": [
    "X = data['X'][:,0]\n",
    "y = data['y'][:,0]\n",
    "XPoly = poly_generate(X,8)\n",
    "XNorm = feature_normalize(XPoly)\n",
    "XNorm = np.c_[np.ones(XNorm.shape[0]),XNorm]"
   ]
  },
  {
   "cell_type": "code",
   "execution_count": 13,
   "metadata": {},
   "outputs": [
    {
     "name": "stdout",
     "output_type": "stream",
     "text": [
      "(100,)\n"
     ]
    },
    {
     "data": {
      "text/plain": [
       "[<matplotlib.lines.Line2D at 0x7f67f2dddc18>]"
      ]
     },
     "execution_count": 13,
     "metadata": {},
     "output_type": "execute_result"
    },
    {
     "data": {
      "image/png": "[encoded data removed]",
      "text/plain": [
       "<matplotlib.figure.Figure at 0x7f67f2de5198>"
      ]
     },
     "metadata": {},
     "output_type": "display_data"
    }
   ],
   "source": [
    "# training with zero regularization reg=0\n",
    "reg = 100.5\n",
    "theta0 = np.random.rand(9)\n",
    "resP = minimize(cost, theta0,args=(XNorm,y, reg), method=None,\n",
    "                jac=cost_grad, options={'maxiter':100})\n",
    "theta = resP.x                \n",
    "\n",
    "pl.plot(XNorm[:,1],y,'*k')\n",
    "Xf = np.linspace(np.amin(XNorm[:,1])-0.5,np.amax(XNorm[:,1])+0.5,100)\n",
    "print(Xf.shape)\n",
    "XPoly = poly_generate(Xf,8)\n",
    "XNorm = feature_normalize(XPoly)\n",
    "XNorm = np.c_[np.ones(XNorm.shape[0]),XNorm]\n",
    "\n",
    "#def y_predict(theta,Xf):\n",
    "#    y = np.zeros((Xf.size))\n",
    "#    for i in range(XNorm.shape[1]):\n",
    "#        y += theta[i]*(Xf**i)\n",
    "#    return y\n",
    "\n",
    "yf = XNorm.dot(theta)\n",
    "\n",
    "pl.plot(Xf,yf, 'g--')\n",
    "#pl.plot(Xf,yf,'-b')\n",
    "\n"
   ]
  }
 ],
 "metadata": {
  "kernelspec": {
   "display_name": "Python 3",
   "language": "python",
   "name": "python3"
  },
  "language_info": {
   "codemirror_mode": {
    "name": "ipython",
    "version": 3
   },
   "file_extension": ".py",
   "mimetype": "text/x-python",
   "name": "python",
   "nbconvert_exporter": "python",
   "pygments_lexer": "ipython3",
   "version": "3.6.3"
  }
 },
 "nbformat": 4,
 "nbformat_minor": 2
}
