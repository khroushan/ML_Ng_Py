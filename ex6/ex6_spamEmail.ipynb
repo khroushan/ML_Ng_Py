{
 "cells": [
  {
   "cell_type": "markdown",
   "metadata": {},
   "source": [
    "### Spam filtering\n",
    "This assignment was carried out using a nice tutorial shared [here](https://www.kdnuggets.com/2017/03/email-spam-filtering-an-implementation-with-python-and-scikit-learn.html)\n"
   ]
  },
  {
   "cell_type": "code",
   "execution_count": 1,
   "metadata": {
    "collapsed": true
   },
   "outputs": [],
   "source": [
    "import os\n",
    "import numpy as np\n",
    "# to count number of instances in a list an return a dictionary\n",
    "from collections import Counter\n",
    "train_directory = \"train-mails\"\n",
    "\n",
    "# make a dictionary of words in spam emails\n",
    "def make_Dictionary(train_dr):\n",
    "    emails_f = [f for f in os.listdir(train_dr)]\n",
    "    all_words = []\n",
    "    for mail in emails_f:\n",
    "        with open(train_dr+'/'+mail) as m:\n",
    "            for i, line in enumerate(m):\n",
    "                if i==2: #body of email starts from the 3rd line\n",
    "                    words = line.split()\n",
    "                    all_words += words\n",
    "    dictionary = Counter(all_words)\n",
    "    \n",
    "    # removing single character and non-word\n",
    "    list_to_remove = list(dictionary)\n",
    "    for item in list_to_remove:\n",
    "        if item.isalpha() == False:\n",
    "            del dictionary[item]\n",
    "        elif len(item) == 1:\n",
    "            del dictionary[item]\n",
    "    dictionary = dictionary.most_common(3000)\n",
    "    return dictionary\n",
    "spWordsdict = make_Dictionary(train_directory)"
   ]
  },
  {
   "cell_type": "code",
   "execution_count": 2,
   "metadata": {
    "collapsed": true
   },
   "outputs": [],
   "source": [
    "# construct word count vector\n",
    "# each word count vector contains the frequency of 3000 words in the training file\n",
    "def extract_features(mail_dir):\n",
    "    files = [os.path.join(mail_dir,f) for f in os.listdir(mail_dir)]\n",
    "    features_matrix = np.zeros((len(files), 3000))\n",
    "    docID = 0\n",
    "    for fil in files:\n",
    "        with open(fil) as fi:\n",
    "            for i, line in enumerate(fi):\n",
    "                if i==2:\n",
    "                    words = line.split()\n",
    "                    for word in words:\n",
    "                        wordID = 0\n",
    "                        for i,d in enumerate(spWordsdict):\n",
    "                            if d[0] == word:\n",
    "                                wordID = i\n",
    "                                features_matrix[docID, wordID] = words.count(word)\n",
    "            docID +=1\n",
    "    return features_matrix"
   ]
  },
  {
   "cell_type": "code",
   "execution_count": 3,
   "metadata": {
    "collapsed": true
   },
   "outputs": [],
   "source": [
    "XX = extract_features(train_directory)"
   ]
  },
  {
   "cell_type": "code",
   "execution_count": 4,
   "metadata": {
    "collapsed": true
   },
   "outputs": [],
   "source": [
    "from sklearn.naive_bayes import  MultinomialNB, GaussianNB, BernoulliNB\n",
    "from sklearn.svm import  SVC, NuSVC, LinearSVC\n",
    "\n",
    "train_labels = np.zeros(702)\n",
    "train_labels[351:701] = 1\n",
    "train_matrix = XX\n",
    "\n",
    "# Training SVM and Naive Bayes classifiers\n",
    "\n",
    "model1 = MultinomialNB()\n",
    "model2 = LinearSVC()\n",
    "model1.fit(train_matrix, train_labels)\n",
    "model2.fit(train_matrix, train_labels)\n",
    "\n",
    "# Test the unseen mails for Spam\n",
    "test_dir = 'test-mails'\n",
    "test_matrix = extract_features(test_dir)\n",
    "test_labels = np.zeros(260)\n",
    "test_labels[130:260] = 1\n",
    "result1 = model1.predict(test_matrix)\n",
    "result2 = model2.predict(test_matrix)\n"
   ]
  },
  {
   "cell_type": "code",
   "execution_count": 5,
   "metadata": {},
   "outputs": [
    {
     "name": "stdout",
     "output_type": "stream",
     "text": [
      "[[ 29 101]\n",
      " [ 32  98]]\n",
      "[[59 71]\n",
      " [52 78]]\n",
      "emailSample1.txt  ex6data2.mat\tex6.pdf\t\t     spamSample2.txt  vocab.txt\r\n",
      "emailSample2.txt  ex6data3.mat\tex6_spamEmail.ipynb  test-mails\r\n",
      "ex6data1.mat\t  ex6.ipynb\tspamSample1.txt      train-mails\r\n"
     ]
    }
   ],
   "source": [
    "from sklearn.metrics import  confusion_matrix\n",
    "print(confusion_matrix(test_labels,result1))\n",
    "print(confusion_matrix(test_labels,result2))\n",
    "!ls"
   ]
  }
 ],
 "metadata": {
  "kernelspec": {
   "display_name": "Python 3",
   "language": "python",
   "name": "python3"
  },
  "language_info": {
   "codemirror_mode": {
    "name": "ipython",
    "version": 3
   },
   "file_extension": ".py",
   "mimetype": "text/x-python",
   "name": "python",
   "nbconvert_exporter": "python",
   "pygments_lexer": "ipython3",
   "version": "3.6.3"
  }
 },
 "nbformat": 4,
 "nbformat_minor": 2
}
